{
 "cells": [
  {
   "cell_type": "code",
   "execution_count": 1,
   "id": "1e6ed785",
   "metadata": {},
   "outputs": [
    {
     "name": "stdout",
     "output_type": "stream",
     "text": [
      "Linear output (z):\n",
      " [-3. -2. -1.]\n",
      "Logistic output (sigmoid):\n",
      " [0.04742587 0.11920292 0.26894142]\n"
     ]
    }
   ],
   "source": [
    "import numpy as np\n",
    "\n",
    "# Step 1: Linear function f(x) = w*x + b\n",
    "def linear_forward(X, weights, bias):\n",
    "    return np.dot(X, weights) + bias\n",
    "\n",
    "# Step 2: Sigmoid activation function\n",
    "def sigmoid(z):\n",
    "    return 1 / (1 + np.exp(-z))\n",
    "\n",
    "# Example inputs\n",
    "X = np.array([[2], [4], [6]])    # Feature values\n",
    "weights = np.array([0.5])        # m\n",
    "bias = -4                        # b\n",
    "\n",
    "# Linear forward pass\n",
    "z = linear_forward(X, weights, bias)\n",
    "\n",
    "# Logistic (sigmoid) activation\n",
    "y_hat = sigmoid(z)\n",
    "\n",
    "# Output\n",
    "print(\"Linear output (z):\\n\", z)\n",
    "print(\"Logistic output (sigmoid):\\n\", y_hat)\n"
   ]
  },
  {
   "cell_type": "markdown",
   "id": "4ac351f3",
   "metadata": {},
   "source": [
    "## Group names \n",
    "\n",
    "#### Akoto-Nimoh Christine Serwaa\n",
    "#### Excel Chidera Aspah"
   ]
  }
 ],
 "metadata": {
  "kernelspec": {
   "display_name": "base",
   "language": "python",
   "name": "python3"
  },
  "language_info": {
   "codemirror_mode": {
    "name": "ipython",
    "version": 3
   },
   "file_extension": ".py",
   "mimetype": "text/x-python",
   "name": "python",
   "nbconvert_exporter": "python",
   "pygments_lexer": "ipython3",
   "version": "3.12.7"
  }
 },
 "nbformat": 4,
 "nbformat_minor": 5
}
